{
 "cells": [
  {
   "cell_type": "markdown",
   "metadata": {},
   "source": [
    "# Computational Exercise 2-4: A Surface with so much potential\n",
    "We are going to construct what is often referred to as an $ab$ $initio$ potential energy surface of the diatomic\n",
    "molecule carbon monoxide.  That is, we are going to use various electronic structure theories (Hartree-Fock theory, Configuration Interaction theory, and Density Functional theory) to compute the electronic energy at different geometries of a simple diatomic molecule.  We will use the interpolation capabilities of scipy to simplify the evalution of the potential energy at separations for which we did not explicitly evaluate the electronic energy.  We will also use scipy to differentiate the interpolated potential energy surface to obtain the forces acting on the atoms at different separations.  \n",
    "\n",
    "We will start by importing the necessary libraries:"
   ]
  },
  {
   "cell_type": "code",
   "execution_count": null,
   "metadata": {},
   "outputs": [],
   "source": [
    "import numpy as np\n",
    "from matplotlib import pyplot as plt\n",
    "from scipy.interpolate import InterpolatedUnivariateSpline"
   ]
  },
  {
   "cell_type": "markdown",
   "metadata": {},
   "source": [
    "We will now define two arrays: r_array will be an array of values for the $CO$ bond length and E_array will hold the electronic energy values corresponding to each separation.  "
   ]
  },
  {
   "cell_type": "code",
   "execution_count": null,
   "metadata": {},
   "outputs": [],
   "source": [
    "### create an array of 20 bond lengths spanning 0.5 - 3.5 angstroms\n",
    "### but store in atomic units of length... note 1 angstrom = 1.88973 a.u. of length\n",
    "r_array = np.linspace(0.561,3.087,10)*1.88973\n",
    "print(r_array)\n",
    "\n",
    "### fill in this array with your actual energy values... there should be 20 values in total!!!\n",
    "E_array = [-109.0350050004,-112.3137052599, -112.6994904875, -112.5943503269, -112.4432190905, -112.3517396124, \n",
    "          -112.3147098978, -112.2973399066, -112.0120671242, -111.9948057317]\n",
    "\n",
    "\n",
    "# TO see the plot of the PES, uncomment the following lines\n",
    "plt.plot(r_array, E_array, 'red')\n",
    "plt.show()"
   ]
  },
  {
   "cell_type": "markdown",
   "metadata": {},
   "source": [
    "Now that you have the raw data, we will interpolate this data using cubic splines.  This will permit us to \n",
    "estimate the potential energy at any arbitrary separation between 0.5 and 3.5 Angstroms (roughly \n",
    "1 and 5.8 a.u.) with fairly high confidence, and will also allow us to estimate the force \n",
    "\\begin{equation}\n",
    "F(r) = -\\frac{d}{dr} V(r)\n",
    "\\end{equation}\n",
    "at any separation between 1.0 and 5.8 a.u. since the derivative of cubic splines are readily available."
   ]
  },
  {
   "cell_type": "code",
   "execution_count": null,
   "metadata": {},
   "outputs": [],
   "source": [
    "### use cubic spline interpolation\n",
    "order = 3\n",
    "### form the interpolator object for the data\n",
    "sE = InterpolatedUnivariateSpline(r_array, E_array, k=order)\n",
    "### form a much finer grid\n",
    "r_fine = np.linspace(1.06,5.0,200)\n",
    "### compute the interpolated/extrapolated values for E on this grid\n",
    "E_fine = sE(r_fine)\n",
    "### plot the interpolated data\n",
    "plt.plot(r_fine, E_fine, 'blue')\n",
    "plt.show()\n",
    "\n",
    "### take the derivative of potential\n",
    "fE = sE.derivative()\n",
    "### force is the negative of the derivative\n",
    "F_fine = -1*fE(r_fine)\n",
    "\n",
    "### plot the forces\n",
    "plt.plot(r_fine, np.abs(F_fine), 'black')\n",
    "plt.xlim(1,5)\n",
    "plt.show()"
   ]
  },
  {
   "cell_type": "markdown",
   "metadata": {},
   "source": [
    "We can estimate the equilibrium bond length by finding the separation at which the potential is minimum; note this would also be the position that the force goes to zero:\n",
    "\\begin{equation}\n",
    "\\frac{d}{dr} V(r_{eq}) = -F(r_{eq}) = 0,\n",
    "\\end{equation}\n",
    "but there are artificial local minima in the PES at some levels of theory (e.g. Hartree-Fock) that make finding the zeros in the force problematic."
   ]
  },
  {
   "cell_type": "code",
   "execution_count": null,
   "metadata": {},
   "outputs": [],
   "source": [
    "### Find index of the PES where it has its global minimum\n",
    "r_eq_idx = np.argmin(E_fine)\n",
    "### find the value of the separation corresponding to that index\n",
    "r_eq = r_fine[r_eq_idx]\n",
    "### print equilibrium bond-length in atomic units and in angstroms\n",
    "print(\"Equilibrium bond length is \",r_eq,\" atomic units\")\n",
    "print(\"Equilibrium bond length is \",r_eq*0.529,\" Angstroms\")\n"
   ]
  },
  {
   "cell_type": "markdown",
   "metadata": {},
   "source": [
    "At this point, take a moment to compare your equilibrium bond length with other teams who have used different levels of theory to compute their potential energy surfaces.  Which equilibrium bond length should be most trustworthy?\n",
    "\n",
    "Recall now that the Harmonic Oscillator potential, which is a reasonable model for the motion of diatomic atomcs near their equilibrium bond length, is given by\n",
    "\\begin{equation}\n",
    "V(r) = \\frac{1}{2} k r^2\n",
    "\\end{equation}\n",
    "and that the vibrational frequency of the molecule is given by\n",
    "\\begin{equation}\n",
    "\\nu = \\frac{1}{2\\pi} \\sqrt{\\frac{k}{\\mu}}\n",
    "\\end{equation}\n",
    "where $\\mu$ is the reduced mass of the molecule and $k$ is known as the force constant.  \n",
    "We can estimate the force constant as\n",
    "\\begin{equation}\n",
    "k = \\frac{d^2}{dr^2} V(r_{eq}).\n",
    "\\end{equation}\n",
    "\n",
    "### Question 1:  What is the reduced mass of the CO molecule in atomic units?\n",
    "\n",
    "### Question 2:  Use your spline fit to the PES of CO to estimate the vibrational frequency of CO.  Express your number in atomic units and also convert to a common spectroscopic unit system of your choosing (wavenumbers, nm, microns, Hertz, THz are all acceptable choices).\n"
   ]
  },
  {
   "cell_type": "markdown",
   "metadata": {},
   "source": [
    "Next, we want to actually simulate the dynamics of the CO molecule on this $ab$ $initio$ potential energy surface.  To do so, we need to solve Newton's equations of motion subject to some initial condition for the position (separation) and momentum (in a relative sense) of the particles.  Newton's equations can be written\n",
    "\\begin{equation}\n",
    "F(r) = \\mu \\frac{d^2}{dr^2}\n",
    "\\end{equation}\n",
    "where $\\mu$ is the reduced mass in atomic units and $F(r)$ is the Force vs separation in atomic units that was determined previously.  \n",
    "\n",
    "### Question 3:  What will be the accelation of the bond stretch when C is separated by O by 3 atomic units?  You can express your acceleration in atomic units, also.\n",
    "\n"
   ]
  },
  {
   "cell_type": "markdown",
   "metadata": {},
   "source": [
    "If the acceleration, position, and velocity of the bond stretch coordinate are known at some instant in \n",
    "time $t_i$, then the position and velocity can be estimated at some later time $t_{i+1} = t_i + \\Delta t$:\n",
    "\\begin{equation}\n",
    "r(t_i + \\Delta t) = r(t_i) + v(t_i)\\Delta t + \\frac{1}{2}a(t_i)\\Delta t^2\n",
    "\\end{equation}\n",
    "and\n",
    "\\begin{equation}\n",
    "v(t_i + \\Delta t) = v(t_i) + \\frac{1}{2} \\left(a(t_i) + a(t_i + \\Delta t)  \\right) \\Delta t.\n",
    "\\end{equation}\n",
    "This prescription for updating the velocities and positions is known as the Velocity-Verlet algorithm.  \n",
    "Note that we need to perform 2 force evaluations per Velocity-Verlet iteration... one corresponding\n",
    "to position $r(t_i)$ to update the position, and then a second time at the updated position $r(t_i + \\Delta t)$\n",
    "to complete the velocity update.  To be able to define the very first update, an initial position and velocity must be specified.  Typically, these are chosen at random from a sensible range of values.  In this case, we will initialize the position to be a random number between 1.0 and 5.0; for the velocity, we will use the fact that we can estimate the expectation value of kinetic energy for a very similar system (the Harmonic oscillator) in the ground state as follows:\n",
    "\\begin{equation}\n",
    "\\langle T \\rangle = \\frac{1}{2} E_g,\n",
    "\\end{equation}\n",
    "where $E_g$ is the ground state of the Harmonic oscillator (this is making use of the Virial theorem).  We can easily\n",
    "find the ground state energy in the Harmonic oscillator approximation of $CO$ using our frequency calculation described above as\n",
    "\\begin{equation}\n",
    "E_g = \\frac{1}{2} h \\nu,\n",
    "\\end{equation}\n",
    "which implies the kinetic energy expectation value is\n",
    "\\begin{equation}\n",
    "\\langle T \\rangle = \\frac{1}{8 \\pi} h \\sqrt{\\frac{k}{\\mu}}.\n",
    "\\end{equation}\n",
    "Since we can say classically that the kinetic energy is given by $T = \\frac{1}{2}\\mu v^2$, we can estimate the velocity of the bond stretch as follows:\n",
    "\\begin{equation}\n",
    "v = \\sqrt{\\frac{2 \\langle T \\rangle}{\\mu}} = \\sqrt{ \\frac{\\hbar \\sqrt{\\frac{k}{\\mu}}}{2\\mu}}\n",
    "\\end{equation}\n",
    "where we have simplified using the fact that $\\hbar = \\frac{h}{2\\pi}$.  We will assume that a reasonable\n",
    "range of velocities spans plus or minus 3 times this \"ground-state\" velocity.\n"
   ]
  },
  {
   "cell_type": "code",
   "execution_count": null,
   "metadata": {},
   "outputs": [],
   "source": [
    "### get second derivative of potential energy curve... recall that we fit a spline to\n",
    "### to the first derivative already and called that spline function fE.\n",
    "cE = fE.derivative()\n",
    "\n",
    "### evaluate the second derivative at r_eq to get k\n",
    "k = cE(r_eq)\n",
    "\n",
    "### define reduced mass of CO as m_C * m_O /(m_C + m_O) where mass is in atomic units (electron mass = 1)\n",
    "mu = 13625.\n",
    "\n",
    "### define \"ground-state\" velocity:\n",
    "v = np.sqrt( np.sqrt(k/mu)/(2*mu))\n",
    "\n",
    "### get random position and velocity for CO within a reasonable range\n",
    "r_init = np.random.uniform(0.75*r_eq,2*r_eq)\n",
    "v_init = np.random.uniform(-2*v,2*v)\n",
    "\n",
    "### print initial position and velocity\n",
    "print(\"Initial separation is \",r_init, \"atomic units\")\n",
    "print(\"Initial velocity is   \",v_init, \"atomic units\")\n",
    "### establish time-step for integration to be 0.2 atomic units... this is about 0.01 femtoseconds\n",
    "dt = 0.02\n",
    "\n",
    "### get force on particle \n",
    "F_init = -1*fE(r_init)\n"
   ]
  },
  {
   "cell_type": "markdown",
   "metadata": {},
   "source": [
    "Next we need to define our Velocity-Verlet function and call it to update our position and velocity.  The following partially-complete function will update the position.  You should complete the function to also\n",
    "update the velocity (note:  Remove lines that update velocity and have students implement them)."
   ]
  },
  {
   "cell_type": "code",
   "execution_count": null,
   "metadata": {},
   "outputs": [],
   "source": [
    "def Velocity_Verlet(r_curr, v_curr, mu, f_interp, dt):\n",
    "    ### get acceleration at current time\n",
    "    a_curr = -1*f_interp(r_curr)/mu\n",
    "    \n",
    "    ### use current acceleration and velocity to update position\n",
    "    r_fut = r_curr + v_curr * dt + 0.5 * a_curr * dt**2\n",
    "    \n",
    "    ### use r_fut to get future acceleration a_fut\n",
    "    ''' STUDENT WRITTEN CODE GOES HERE!'''\n",
    "    ### use current and future acceleration to get future velocity v_fut\n",
    "    ''' STUDENT WRITTEN CODE GOES HERE!'''\n",
    "    \n",
    "    result = [r_fut, v_fut]\n",
    "    \n",
    "    return result\n",
    "\n",
    "### how many updates do you want to perform?\n",
    "N_updates = 200000\n",
    "\n",
    "### Now use r_init and v_init and run velocity verlet update N_updates times, plot results\n",
    "### these arrays will store the time, the position vs time, and the velocity vs time\n",
    "r_vs_t = np.zeros(N_updates)\n",
    "v_vs_t = np.zeros(N_updates)\n",
    "t_array = np.zeros(N_updates)\n",
    "\n",
    "### first entry is the intial position and velocity\n",
    "r_vs_t[0] = r_init\n",
    "v_vs_t[0] = v_init\n",
    "\n",
    "### first Velocity Verlet update\n",
    "result_array = Velocity_Verlet(r_init, v_init, mu, fE, dt)\n",
    "\n",
    "### do the update N_update-1 more times\n",
    "for i in range(1,N_updates):\n",
    "    tmp = Velocity_Verlet(result_array[0], result_array[1], mu, fE, dt)\n",
    "    result_array = tmp\n",
    "    t_array[i] = dt*i\n",
    "    r_vs_t[i] = result_array[0]\n",
    "    v_vs_t[i] = result_array[1]\n",
    "\n",
    "### Plot the trajectory of bondlength vs time:\n",
    "plt.plot(t_array, r_vs_t, 'red')\n",
    "plt.show()\n",
    "\n",
    "### plot the phase space trajectory of position vs momentum\n",
    "plt.plot(mu*v_vs_t, r_vs_t, 'blue')\n",
    "plt.show()\n",
    "    \n",
    "    \n",
    "    "
   ]
  },
  {
   "cell_type": "markdown",
   "metadata": {},
   "source": [
    "## Input file templates for the CISD, RHF, and B3LYP levels of theory follow:"
   ]
  },
  {
   "cell_type": "raw",
   "metadata": {},
   "source": [
    " $CONTRL MAXIT=199 SCFTYP=RHF CITYP=GUGA RUNTYP=ENERGY COORD=ZMT  $END\n",
    " $CONTRL UNIT=BOHR $END\n",
    " $SYSTEM MWORDS=100 $END\n",
    " $BASIS GBASIS=N311 NGAUSS=6 $END\n",
    " $SCF DIRSCF=.T. DISS=.T. DAMP=.T. $END\n",
    " $CIDRT IEXCIT=2 NFZC=0 NDOC=7 NVAL=19 $END\n",
    " $DATA\n",
    " CO\n",
    "C1\n",
    "C\n",
    "O   1  1.5\n",
    " $END"
   ]
  },
  {
   "cell_type": "raw",
   "metadata": {},
   "source": [
    " $CONTRL MAXIT=199 SCFTYP=RHF RUNTYP=ENERGY COORD=ZMT  $END\n",
    " $CONTRL UNIT=BOHR $END\n",
    " $SYSTEM MWORDS=100 $END\n",
    " $SCF DIRSCF=.T. DISS=.T. DAMP=.T. $END\n",
    " $BASIS GBASIS=N311 NGAUSS=6 $END\n",
    " $DATA\n",
    " CO\n",
    "C1\n",
    "C\n",
    "O   1  1.5\n",
    " $END"
   ]
  },
  {
   "cell_type": "raw",
   "metadata": {},
   "source": [
    " $CONTRL MAXIT=199 SCFTYP=RHF DFTTYP=B3LYP RUNTYP=ENERGY COORD=ZMT  $END\n",
    " $CONTRL UNIT=BOHR $END\n",
    " $SYSTEM MWORDS=100 $END\n",
    " $BASIS GBASIS=N311 NGAUSS=6 $END\n",
    " $SCF DIRSCF=.T. DIIS=.T. DAMP=.T. $END\n",
    " $DATA\n",
    " CO\n",
    "C1\n",
    "C\n",
    "O   1  1.5\n",
    " $END"
   ]
  }
 ],
 "metadata": {
  "kernelspec": {
   "display_name": "Python 3",
   "language": "python",
   "name": "python3"
  },
  "language_info": {
   "codemirror_mode": {
    "name": "ipython",
    "version": 3
   },
   "file_extension": ".py",
   "mimetype": "text/x-python",
   "name": "python",
   "nbconvert_exporter": "python",
   "pygments_lexer": "ipython3",
   "version": "3.6.4"
  }
 },
 "nbformat": 4,
 "nbformat_minor": 2
}
