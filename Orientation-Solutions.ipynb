{
 "cells": [
  {
   "cell_type": "code",
   "execution_count": 27,
   "metadata": {},
   "outputs": [],
   "source": [
    "### Import statements\n",
    "### import time library\n",
    "import time\n",
    "### import pyplot as library\n",
    "from matplotlib import pyplot as plt\n",
    "### import numpy library\n",
    "import numpy as np\n"
   ]
  },
  {
   "cell_type": "code",
   "execution_count": 28,
   "metadata": {},
   "outputs": [],
   "source": [
    "### Function to compute total kinetic energy given an array of masses and velocities\n",
    "def Kinetic(mass_array, velocity_array):\n",
    "    N = len(mass_array)\n",
    "    Kin = 0.\n",
    "    for i in range(0,N):\n",
    "        Kin = Kin + 0.5*mass_array[i]*velocity_array[i]**2\n",
    "    return Kin"
   ]
  },
  {
   "cell_type": "code",
   "execution_count": 29,
   "metadata": {},
   "outputs": [],
   "source": [
    "### function to compute potential energy given an array of separations and an array of charges\n",
    "def Potential(sep_array, charge_array):\n",
    "    ### presumably the number of particles is equal to the length\n",
    "    ### of the array of charges\n",
    "    N = len(charge_array)\n",
    "    \n",
    "    ### initialize the potential energy to zer\n",
    "    Pot = 0.\n",
    "    ### nested loop\n",
    "    for i in range(0,N):\n",
    "        for j in range(0,N):\n",
    "            ### do not calculate potential of particle with itself!\n",
    "            if (i!=j):\n",
    "                Pot = Pot + charge_array[i]*charge_array[j]/sep_array[i][j]\n",
    "    return Pot\n",
    "            "
   ]
  },
  {
   "cell_type": "markdown",
   "metadata": {},
   "source": [
    "# Questions!\n",
    "- How does the total kinetic energy of a collection of $N$ particles grow with $N$ assuming each particle has the same average kinetic energy?  Compute the total kinetic energy for five different values of $N$ and plot the results using $pyplot$ (a sample program using $pyplot$ can be found below)\n",
    "#### Answer 1:  The total kinetic energy scales linearly with the number of particles, as can be seen from the blue curve plotted in the figure titled 'Energy vs Number of Particles'.  This is because the total kinetic energy is just the sum over the kinetic energy of each individual particle.\n",
    "- How does the total potential energy of a collection of $N$ equally spaced charged particles grow with $N$?  Compute the the total potential energy for five different values of $N$ and plot the results.\n",
    "#### Answer 2:  The total kinetic energy scales linearly with the number of particles, as can be seen from the blue curve plotted in the figure titled 'Energy vs Number of Particles'.  This is because the total potential energy depends upon the potential energy of particle pairs, and the number of particle pairs increases approximately as the square of the number of particles.\n",
    "- Use the $time$ library in python to determine how the time required to compute the kinetic and potential energy for the five different values of $N$; plot the time required vs $N$ and discuss if the kinetic seems to scale linearly and the potential seems to scale quadratically with $N$.\n",
    "#### Answer 3:  The time require to compute the total kinetic energy does indeed appear to scale linearly with the number of particles, and the time required to compute the total potential energy seems to scale quadratically.  We use a single for-loop in our function to compute the total kinetic, and two nested for-loops in our code to compute the potential; the former has linear scaling and the latter has quadratic."
   ]
  },
  {
   "cell_type": "code",
   "execution_count": 30,
   "metadata": {},
   "outputs": [
    {
     "data": {
      "image/png": "[encoded data removed]",
      "text/plain": [
       "<matplotlib.figure.Figure at 0x10726b400>"
      ]
     },
     "metadata": {},
     "output_type": "display_data"
    },
    {
     "data": {
      "image/png": "[encoded data removed]",
      "text/plain": [
       "<matplotlib.figure.Figure at 0x1073f5d30>"
      ]
     },
     "metadata": {},
     "output_type": "display_data"
    }
   ],
   "source": [
    "### Create an array with 5 different values of Npart\n",
    "### I'll choose to double number of particle numbers in each entry\n",
    "N_array = [10, 20, 40, 80, 160]\n",
    "\n",
    "### Create an array with 5 different entries that will store the total kinetic \n",
    "### energy for each number of Npart\n",
    "Kin_array = np.zeros(len(N_array))\n",
    "\n",
    "### Create an array with 5 different entries that will store the total potential\n",
    "### energy for each number of Npart\n",
    "Pot_array = np.zeros(len(N_array))\n",
    "\n",
    "### create an array of the same length at N_array that will store\n",
    "### the time taken to compute total kinetic energy for each number of particles\n",
    "kin_time_array = np.zeros(len(N_array))\n",
    "\n",
    "### create an array of the same length at N_array that will store\n",
    "### the time taken to compute total potential energy for each number of particles\n",
    "pot_time_array = np.zeros(len(N_array))\n",
    "\n",
    "### Loop through elements of N_array... assign the appropriate \n",
    "### arrays of particle masses, velocities, positions, charges, and separations\n",
    "### in each case and then compute kinetic and potential energy, taking time in each case.\n",
    "\n",
    "for i in range(0,len(N_array)):\n",
    "    ### define all arrays for this number of particles\n",
    "    m = np.ones(N_array[i])*1.0\n",
    "    v = np.ones(N_array[i])*2.5\n",
    "    q = np.ones(N_array[i])\n",
    "    x = np.linspace(0,(N_array[i]-1)*0.2,N_array[i])\n",
    "    \n",
    "    ### need to compute separation values for r array\n",
    "    r = np.zeros((N_array[i],N_array[i]))\n",
    "    for j in range(0,len(m)):\n",
    "        for k in range(0,len(m)):\n",
    "            r[j][k] = np.sqrt( (x[j] - x[k])**2)\n",
    "    \n",
    "    ### now that m, v, q, and r are defined for  compute total kinetic energy,\n",
    "    ### store the result to Kin_array, time how long it takes to compute \n",
    "    ### the kinetic energy, and store the time in time_array\n",
    "    \n",
    "    ### kinetic energy first\n",
    "    start_time = time.time()\n",
    "    Kin_array[i] = Kinetic(m, v)\n",
    "    end_time = time.time()\n",
    "    kin_time_array[i] = end_time - start_time\n",
    "    \n",
    "    ### potential energy second\n",
    "    start_time = time.time()\n",
    "    Pot_array[i] = Potential(r, q)\n",
    "    end_time = time.time()\n",
    "    pot_time_array[i] = end_time - start_time\n",
    "    \n",
    "\n",
    "plt.plot(N_array, Kin_array, 'blue')\n",
    "plt.plot(N_array, Pot_array, 'red')\n",
    "plt.title(\"Energy vs Number of Particles\")\n",
    "plt.show()\n",
    "\n",
    "\n",
    "plt.plot(N_array, kin_time_array, 'blue')\n",
    "plt.plot(N_array, pot_time_array, 'red')\n",
    "plt.title(\"Time vs Number of Particles\")\n",
    "plt.show()\n"
   ]
  },
  {
   "cell_type": "code",
   "execution_count": null,
   "metadata": {},
   "outputs": [],
   "source": []
  }
 ],
 "metadata": {
  "_draft": {
   "nbviewer_url": "https://gist.github.com/f08e978de2c5aae86677c0463b050321"
  },
  "celltoolbar": "Hide code",
  "gist": {
   "data": {
    "description": "Generalized_Mie_Near_Field_Plots",
    "public": true
   },
   "id": "f08e978de2c5aae86677c0463b050321"
  },
  "hide_code_all_hidden": false,
  "kernelspec": {
   "display_name": "Python 3",
   "language": "python",
   "name": "python3"
  },
  "language_info": {
   "codemirror_mode": {
    "name": "ipython",
    "version": 3
   },
   "file_extension": ".py",
   "mimetype": "text/x-python",
   "name": "python",
   "nbconvert_exporter": "python",
   "pygments_lexer": "ipython3",
   "version": "3.6.4"
  }
 },
 "nbformat": 4,
 "nbformat_minor": 2
}
