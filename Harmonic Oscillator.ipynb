{
 "cells": [
  {
   "cell_type": "markdown",
   "metadata": {},
   "source": [
    "We will apply the Variational Method to the Harmonic Oscillator.  In particular, we will optimize\n",
    "the trial wavefunction given by \n",
    "\\begin{equation}\n",
    "\\Phi(x) = {\\rm exp}\\left( -\\alpha x^2 \\right),\n",
    "\\end{equation}\n",
    "where $\\alpha$ is an adjustable parameter that will be variationally optimized.  In particular, the goal\n",
    "will be to minimize the energy functional given by\n",
    "\\begin{equation}\n",
    "E[\\Phi(x)] = \\frac{\\int_0^{\\infty} \\Phi^* (x) \\: \\hat{H} \\: \\Phi(x) dx }{\\int_0^{\\infty} \\Phi^* (x) \\: \\Phi(x) dx }\n",
    "\\end{equation}\n",
    "by modulating the trial wavefunction through the adjustable parameter $\\alpha$.\n",
    "\n",
    "The Hamiltonian operator for Harmonic Oscillator is given by \n",
    "\\begin{equation}\n",
    "\\hat{H} = -\\frac{\\hbar^2}{2m} \\frac{d^2}{dx^2} + \\frac{1}{2} k \\: x^2.\n",
    "\\end{equation}\n",
    "We will use a system of natural units where $\\hbar = 1$, $m = 1$, and $k = 1$."
   ]
  }
 ],
 "metadata": {
  "kernelspec": {
   "display_name": "Python 3",
   "language": "python",
   "name": "python3"
  },
  "language_info": {
   "codemirror_mode": {
    "name": "ipython",
    "version": 3
   },
   "file_extension": ".py",
   "mimetype": "text/x-python",
   "name": "python",
   "nbconvert_exporter": "python",
   "pygments_lexer": "ipython3",
   "version": "3.6.4"
  }
 },
 "nbformat": 4,
 "nbformat_minor": 2
}
