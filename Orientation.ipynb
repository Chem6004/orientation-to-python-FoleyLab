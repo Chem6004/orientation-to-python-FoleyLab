{
 "cells": [
  {
   "cell_type": "markdown",
   "metadata": {},
   "source": [
    "# Generalized Mie Near Field Plots\n",
    "\n",
    "Chad Heaps\n",
    "February 25, 2017\n",
    "\n",
    "This was originally a separate utility, but is being added to mstm-scan to aid anyone running the calculations.  The saved scattered coefficient file should be the correct format to be read into the notebook.\n",
    "\n",
    "This jupyter notebook plots the scattered near field from a Generalized Mie calculation.  The vector components are calculated using Fortran code from Daniel Mackowski's MSTM code (http://www.eng.auburn.edu/~dmckwski/scatcodes/).  The Fortran code is compiled using fortranmagic.  You could easily compile it with f2py separately, too.  There is a Fortran module func_nf and a python class NearField that take care of most of the computation.  They are mostly stitched together from other scripts/codes.\n",
    "\n",
    "Only Fields in the Cartesian planes are currently supported.  \n",
    "\n",
    "The code requires a text file with vector spherical harmonic coefficients and some header information.  Right now it will only calculate fields external to the particles.\n",
    "\n",
    "The field for each particle is calculated individually and summed at the end.  The field is  expressed as\n",
    "\n",
    "\\begin{equation}\n",
    "{\\bf E}_\\text{cart} = \\sum_{l=1}^N \\sum_{m=-n}^n a_{lm} {\\bf N}_{lm}(r,\\theta,\\phi) + b_{lm} {\\bf M}_{lm}(r,\\theta,\\phi)\n",
    "\\end{equation}\n",
    "\n",
    "where the explicit forms for ${\\bf N}_{lm}$ and ${\\bf M}_{lm}$ may be found in the MSTM manual or other Mie theory resources."
   ]
  }
  ]
}
