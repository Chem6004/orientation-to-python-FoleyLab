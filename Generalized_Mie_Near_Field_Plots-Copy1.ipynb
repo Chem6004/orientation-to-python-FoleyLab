{
 "cells": [
  {
   "cell_type": "markdown",
   "metadata": {},
   "source": [
    "# Orientation to Python\n",
    "\n",
    "Chem 6004\n",
    "January 18, 2019\n",
    "\n",
    "This will introduce some of the basic concepts required for scientific computing in python.\n",
    "In particular, the following concepts will be illustrated:\n",
    "\n",
    "\n",
    "- Basic use of numpy \n",
    "- Basic use of matplotlib\n",
    "- Arrays\n",
    "- Loops\n",
    "- Timing\n",
    "- Functions\n",
    "\n",
    "We will start with the illustrative example discussed in class, namely, the kinetic energy \n",
    "and potential energy of a collection or $N$ charged particle.\n",
    "\n",
    "\\begin{equation}\n",
    "T = \\sum_{l=i}^N \\frac{1}{2} m_i v_i^2.\n",
    "\\end{equation}\n",
    "\n",
    "A natural way to store the masses and velocities of the particles is in an array.  The following lines of code \n",
    "will import numpy and create two numpy arrays that can be used to store the masses and velocities of $N=10$ particles\n"
   ]
  },
  {
   "cell_type": "code",
   "execution_count": null,
   "metadata": {
    "ExecuteTime": {
     "end_time": "2018-03-26T17:33:11.533495Z",
     "start_time": "2018-03-26T17:33:11.158908Z"
    },
    "hideCode": false,
    "hidePrompt": false
   },
   "outputs": [],
   "source": [
    "\n",
    "import numpy as np\n",
    "### Number of particles will be 10\n",
    "Npart = 10\n",
    "### create an array 'm' and 'v' to store the masses and velocities of the 10 particles... \n",
    "### initially, each entry in 'm' and 'v' will be zero, and we will have to assign values later\n",
    "m = np.zeros(Npart)\n",
    "v = np.zeros(Npart)"
   ]
  },
  {
   "cell_type": "markdown",
   "metadata": {},
   "source": [
    "We can use a for loop to access all the entries in 'm' and 'v' and assign them values.  For simplicity,\n",
    "we will give each particle the same mass (1.0 in natural units of mass) and the same velocity (2.5 in natural\n",
    "units of velocity)."
   ]
  },
  {
   "cell_type": "code",
   "execution_count": null,
   "metadata": {
    "ExecuteTime": {
     "end_time": "2018-03-26T17:33:11.739879Z",
     "start_time": "2018-03-26T17:33:11.535716Z"
    }
   },
   "outputs": [],
   "source": [
    "for i in range(0,Npart):\n",
    "    m[i] = 1.0\n",
    "    v[i] = 2.5\n",
    "\n",
    "### Now that values have been assigned, print to confirm they are what you expect\n",
    "print(\"Printing array of masses: \",m)\n",
    "print(\"Printing array of velocities: \",v)"
   ]
  },
  {
   "cell_type": "markdown",
   "metadata": {},
   "source": [
    "Finally, we can perform arithmetic operations directly with the arrays to create a new array of kinetic\n",
    "energies of each particle.  The following line will compute \n",
    "\\begin{equation}\n",
    "T_i = \\frac{1}{2} m_i v_i^2.\n",
    "\\end{equation}\n",
    "for each particle indexed by $i$.\n"
   ]
  },
  {
   "cell_type": "code",
   "execution_count": null,
   "metadata": {},
   "outputs": [],
   "source": [
    "T = 1/2 * m * v**2\n",
    "### confirm that T is indeed an array with an entry for the kinetic energy of each particle\n",
    "print(T)"
   ]
  },
  {
   "cell_type": "markdown",
   "metadata": {},
   "source": [
    "We can compute the total kinetic energy by summing up the entries within T.  This can be done using another\n",
    "for loop, but it can also be done making use of a numpy function called 'sum'.  We will use both to confirm they give \n",
    "the same result."
   ]
  },
  {
   "cell_type": "code",
   "execution_count": null,
   "metadata": {},
   "outputs": [],
   "source": [
    "### initialize a sum variable to zero\n",
    "T_tot_loop = 0.\n",
    "\n",
    "### loop over elements of the T array and \n",
    "### compute the sum \n",
    "for i in range(0,Npart):\n",
    "    ### add elements to the sum variable\n",
    "    T_tot_loop = T_tot_loop + T[i]\n",
    "    \n",
    "### compute the sum using np.sum instead\n",
    "T_tot_sum = np.sum(T)\n",
    "\n",
    "### print both sums to confirm both methods give the same answer\n",
    "print(\"Result from loop is \",T_tot_loop)\n",
    "print(\"Result from numpy sum is \",T_tot_sum)"
   ]
  },
  {
   "cell_type": "markdown",
   "metadata": {},
   "source": [
    "Next let's consider the potential energy:\n",
    "\\begin{equation}\n",
    "V_i = \\sum_{j \\neq i}^N \\frac{q_i q_j}{r_{ij}}. \n",
    "\\end{equation}\n",
    "Again for simplicity, we will consider the particles to be in 1 dimension, so we can write the separation simply as\n",
    "\\begin{equation}\n",
    "r_{ij} = \\sqrt{(x_i - x_j)^2}\n",
    "\\end{equation}\n",
    "where $x_i$ indicates the position of particle $i$ and $x_j$ the position of particle $j$.\n",
    "The total potential energy will be a sum over the potential energy for each individual particle, so we can \n",
    "see we need to compute two nested sums to get the total potential energy:\n",
    "\\begin{equation}\n",
    "V = \\sum_{i=1}^N \\sum_{j != i}^N \\frac{q_i q_j}{ r_{ij}}. \n",
    "\\end{equation}\n",
    "\n",
    "We can see we need a few more quantities to compute this sum: we will need the charge for each particle,\n",
    "and we will need the separation between each particle pair, which of course means we need the positions\n",
    "of all the particles.  We can store the charges and positions as simples 1-D arrays again, but to store\n",
    "the separations between particle pairs, it is more natural to store them in a 2-D array.  Once again for simplicity, \n",
    "we will assign each particle a charge of 1 natural unit and we will space each particle evenly along the $x$-axis with an interparticle separation of 0.2 natural units of length.  By the way, we will also assume $\\frac{1}{4 \\pi \\epsilon_0} = 1$ in our natural unit system. \n"
   ]
  },
  {
   "cell_type": "code",
   "execution_count": null,
   "metadata": {},
   "outputs": [],
   "source": [
    "### create 1-D arrays of length Npart for q... assign each particle charge of 1 natural unit\n",
    "q = np.ones(Npart)\n",
    "\n",
    "### create a 1-D array of length Npart for x... use np.linspace to automatically\n",
    "### assign values since we want the particles evenly spaced.\n",
    "x = np.linspace(0,(Npart-1)*0.2,Npart)\n",
    "\n",
    "### create a 2-D array that is Npart x Npart for the separations between particle pairs\n",
    "r = np.zeros((Npart,Npart))\n",
    "\n",
    "### compute all separations using two nested for-loops to access the positions of each particle\n",
    "for i in range(0,Npart):\n",
    "    for j in range(0,Npart):\n",
    "        r[i][j] = np.sqrt( (x[i]-x[j])**2 )\n",
    "\n",
    "### now print all arrays \n",
    "print(\"Printing array of charges \",q)\n",
    "print(\"Printing array of charges \",x)\n",
    "print(\"Printing array of charges \\n\",r)\n",
    "\n"
   ]
  },
  {
   "cell_type": "markdown",
   "metadata": {},
   "source": [
    "We could write a few more nested for loops to compute the potential energy for us,\n",
    "but it is worth using this opportunity to illustrate one more useful concept, which is the concept of a \n",
    "function.  If one were simulating a material, one might want to compute the potential energy many times during\n",
    "the simulation as the positions of the particles change... it would be silly to have to write a new set of nested for loops every time you wanted your simulation to do this, so you can package the calculation into something called a function that can be called whenever you want to calculate the potential energy."
   ]
  },
  {
   "cell_type": "code",
   "execution_count": null,
   "metadata": {},
   "outputs": [],
   "source": [
    "### function to compute potential energy given an array of separations and an array of charges\n",
    "def Potential(sep_array, charge_array):\n",
    "    ### presumably the number of particles is equal to the length\n",
    "    ### of the array of charges\n",
    "    N = len(charge_array)\n",
    "    \n",
    "    ### initialize the potential energy to zer\n",
    "    Pot = 0.\n",
    "    ### nested loop\n",
    "    for i in range(0,N):\n",
    "        for j in range(0,N):\n",
    "            ### do not calculate potential of particle with itself!\n",
    "            if (i!=j):\n",
    "                Pot = Pot + charge_array[i]*charge_array[j]/sep_array[i][j]\n",
    "    return Pot\n",
    "            "
   ]
  },
  {
   "cell_type": "markdown",
   "metadata": {},
   "source": [
    "Now we can simply call our $Potential$ function and pass it $r$ and $q$ as arguments, and it will return the total potential energy for us!"
   ]
  },
  {
   "cell_type": "code",
   "execution_count": null,
   "metadata": {},
   "outputs": [],
   "source": [
    "### Compute total potential energy and store it as the variable V_tot\n",
    "V_tot = Potential(r, q)\n",
    "\n",
    "### print it to see what it is!\n",
    "print(V_tot)"
   ]
  },
  {
   "cell_type": "markdown",
   "metadata": {},
   "source": [
    "#Questions!\n",
    "- How does the total kinetic energy of a collection of $N$ particles grow with $N$ assuming each particle has the same average kinetic energy?  Compute the total kinetic energy for five different values of $N$ and plot the results using pyplot (a sample program using pyplot can be found below)\n",
    "- How does the total potential energy of a collection of $N$ equally spaced charged particles grow with $N$?  Compute the the total potential energy for five different values of $N$ and plot the results.\n",
    "- Use the time library in python to determine how the time required to compute the kinetic and potential energy for the five different values of $N$; plot the time required vs $N$ and discuss if the kinetic seems to scale linearly and the potential seems to scale quadratically with $N$."
   ]
  },
  {
   "cell_type": "code",
   "execution_count": null,
   "metadata": {},
   "outputs": [],
   "source": [
    "'''\n",
    "Example of the use of the time and pyplot libraries in python... we will do things:\n",
    "(1) Create an array of x values and an array of y values and use pyplot to plot them\n",
    "(2) Measure the time taken to run the entire program\n",
    "'''\n",
    "### import time library\n",
    "import time\n",
    "### import pyplot as library\n",
    "from matplotlib import pyplot as plt\n",
    "\n",
    "### get the time at the beginning of the program\n",
    "start = time.time()\n",
    "### create an array of 100 x-values between -5 and 5\n",
    "x = np.linspace(-5,5,100)\n",
    "### create an array of y-values defined as y = x^2\n",
    "y = x**2\n",
    "\n",
    "### plot y = x^2 with a red line!\n",
    "plt.plot(x, y, 'red')\n",
    "plt.show()\n",
    "\n",
    "### figure out how much time this whole program took to run!\n",
    "end = time.time()\n",
    "how_long = end - start\n",
    "### print the total time taken in seconds\n",
    "print(\" Total time to run in seconds is: \",how_long)\n",
    "\n"
   ]
  },
  {
   "cell_type": "code",
   "execution_count": null,
   "metadata": {},
   "outputs": [],
   "source": []
  }
 ],
 "metadata": {
  "_draft": {
   "nbviewer_url": "https://gist.github.com/f08e978de2c5aae86677c0463b050321"
  },
  "celltoolbar": "Hide code",
  "gist": {
   "data": {
    "description": "Generalized_Mie_Near_Field_Plots",
    "public": true
   },
   "id": "f08e978de2c5aae86677c0463b050321"
  },
  "hide_code_all_hidden": false,
  "kernelspec": {
   "display_name": "Python 3",
   "language": "python",
   "name": "python3"
  },
  "language_info": {
   "codemirror_mode": {
    "name": "ipython",
    "version": 3
   },
   "file_extension": ".py",
   "mimetype": "text/x-python",
   "name": "python",
   "nbconvert_exporter": "python",
   "pygments_lexer": "ipython3",
   "version": "3.6.4"
  }
 },
 "nbformat": 4,
 "nbformat_minor": 2
}
