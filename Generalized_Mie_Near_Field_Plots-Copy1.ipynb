{
 "cells": [
  {
   "cell_type": "markdown",
   "metadata": {},
   "source": [
    "# Generalized Mie Near Field Plots\n",
    "\n",
    "Chad Heaps\n",
    "February 25, 2017\n",
    "\n",
    "This was originally a separate utility, but is being added to mstm-scan to aid anyone running the calculations.  The saved scattered coefficient file should be the correct format to be read into the notebook.\n",
    "\n",
    "This jupyter notebook plots the scattered near field from a Generalized Mie calculation.  The vector components are calculated using Fortran code from Daniel Mackowski's MSTM code (http://www.eng.auburn.edu/~dmckwski/scatcodes/).  The Fortran code is compiled using fortranmagic.  You could easily compile it with f2py separately, too.  There is a Fortran module func_nf and a python class NearField that take care of most of the computation.  They are mostly stitched together from other scripts/codes.\n",
    "\n",
    "Only Fields in the Cartesian planes are currently supported.  \n",
    "\n",
    "The code requires a text file with vector spherical harmonic coefficients and some header information.  Right now it will only calculate fields external to the particles.\n",
    "\n",
    "The field for each particle is calculated individually and summed at the end.  The field is  expressed as\n",
    "\n",
    "\\begin{equation}\n",
    "T = \\sum_{l=i}^N \\frac{1}{2} m_i v_i^2\n",
    "\\end{equation}\n",
    "\n",
    "where the explicit forms for ${\\bf N}_{lm}$ and ${\\bf M}_{lm}$ may be found in the MSTM manual or other Mie theory resources."
   ]
  },
  {
   "cell_type": "code",
   "execution_count": 1,
   "metadata": {
    "ExecuteTime": {
     "end_time": "2018-03-26T17:33:11.533495Z",
     "start_time": "2018-03-26T17:33:11.158908Z"
    },
    "hideCode": false,
    "hidePrompt": false
   },
   "outputs": [],
   "source": [
    "import time\n",
    "import re\n",
    "import numpy as np\n",
    "import matplotlib.pyplot as plt\n",
    "%matplotlib inline"
   ]
  },
  {
   "cell_type": "code",
   "execution_count": 2,
   "metadata": {
    "ExecuteTime": {
     "end_time": "2018-03-26T17:33:11.739879Z",
     "start_time": "2018-03-26T17:33:11.535716Z"
    }
   },
   "outputs": [
    {
     "data": {
      "application/javascript": [
       "$.getScript(\"https://raw.github.com/marijnh/CodeMirror/master/mode/fortran/fortran.js\", function () {\n",
       "IPython.config.cell_magic_highlight['magic_fortran'] = {'reg':[/^%%fortran/]};});\n"
      ]
     },
     "metadata": {},
     "output_type": "display_data"
    }
   ],
   "source": [
    "try: \n",
    "    %load_ext fortranmagic\n",
    "except:\n",
    "    %install_ext https://raw.github.com/mgaitan/fortran_magic/master/fortranmagic.py\n",
    "    %load_ext fortranmagic"
   ]
  },
  {
   "cell_type": "code",
   "execution_count": null,
   "metadata": {},
   "outputs": [],
   "source": []
  }
 ],
 "metadata": {
  "_draft": {
   "nbviewer_url": "https://gist.github.com/f08e978de2c5aae86677c0463b050321"
  },
  "celltoolbar": "Hide code",
  "gist": {
   "data": {
    "description": "Generalized_Mie_Near_Field_Plots",
    "public": true
   },
   "id": "f08e978de2c5aae86677c0463b050321"
  },
  "hide_code_all_hidden": false,
  "kernelspec": {
   "display_name": "Python 3",
   "language": "python",
   "name": "python3"
  },
  "language_info": {
   "codemirror_mode": {
    "name": "ipython",
    "version": 3
   },
   "file_extension": ".py",
   "mimetype": "text/x-python",
   "name": "python",
   "nbconvert_exporter": "python",
   "pygments_lexer": "ipython3",
   "version": "3.6.4"
  }
 },
 "nbformat": 4,
 "nbformat_minor": 2
}
