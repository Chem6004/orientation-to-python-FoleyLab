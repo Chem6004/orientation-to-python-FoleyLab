{
 "cells": [
  {
   "cell_type": "markdown",
   "metadata": {},
   "source": [
    "# Orientation to Python\n",
    "\n",
    "Chem 6004\n",
    "January 18, 2019\n",
    "\n",
    "This will introduce some of the basic concepts required for scientific computing in python.\n",
    "In particular, the following concepts will be illustrated:\n",
    "\n",
    "\n",
    "- Basic use of numpy \n",
    "- Basic use of matplotlib\n",
    "- Arrays\n",
    "- Loops\n",
    "- Timing\n",
    "- Functions\n",
    "\n",
    "We will start with the illustrative example discussed in class, namely, the kinetic energy \n",
    "and potential energy of a collection or $N$ charged particle.\n",
    "\n",
    "\\begin{equation}\n",
    "T = \\sum_{l=i}^N \\frac{1}{2} m_i v_i^2.\n",
    "\\end{equation}\n",
    "\n",
    "A natural way to store the masses and velocities of the particles is in an array.  The following lines of code \n",
    "will import numpy and create two numpy arrays that can be used to store the masses and velocities of $N=10$ particles\n"
   ]
  },
  {
   "cell_type": "code",
   "execution_count": 2,
   "metadata": {
    "ExecuteTime": {
     "end_time": "2018-03-26T17:33:11.533495Z",
     "start_time": "2018-03-26T17:33:11.158908Z"
    },
    "hideCode": false,
    "hidePrompt": false
   },
   "outputs": [],
   "source": [
    "\n",
    "import numpy as np\n",
    "### Number of particles will be 10\n",
    "Npart = 10\n",
    "### create an array 'm' and 'v' to store the masses and velocities of the 10 particles... \n",
    "### initially, each entry in 'm' and 'v' will be zero, and we will have to assign values later\n",
    "m = np.zeros(Npart)\n",
    "v = np.zeros(Npart)"
   ]
  },
  {
   "cell_type": "markdown",
   "metadata": {},
   "source": [
    "We can use a for loop to access all the entries in 'm' and 'v' and assign them values.  For simplicity,\n",
    "we will give each particle the same mass (1.0 in natural units of mass) and the same velocity (2.5 in natural\n",
    "units of velocity)."
   ]
  },
  {
   "cell_type": "code",
   "execution_count": 3,
   "metadata": {
    "ExecuteTime": {
     "end_time": "2018-03-26T17:33:11.739879Z",
     "start_time": "2018-03-26T17:33:11.535716Z"
    }
   },
   "outputs": [
    {
     "name": "stdout",
     "output_type": "stream",
     "text": [
      "Printing array of masses:  [1. 1. 1. 1. 1. 1. 1. 1. 1. 1.]\n",
      "Printing array of velocities:  [2.5 2.5 2.5 2.5 2.5 2.5 2.5 2.5 2.5 2.5]\n"
     ]
    }
   ],
   "source": [
    "for i in range(0,Npart):\n",
    "    m[i] = 1.0\n",
    "    v[i] = 2.5\n",
    "\n",
    "### Now that values have been assigned, print to confirm they are what you expect\n",
    "print(\"Printing array of masses: \",m)\n",
    "print(\"Printing array of velocities: \",v)"
   ]
  },
  {
   "cell_type": "markdown",
   "metadata": {},
   "source": [
    "Finally, we can perform arithmetic operations directly with the arrays to create a new array of kinetic\n",
    "energies of each particle.  The following line will compute \n",
    "\\begin{equation}\n",
    "T_i = \\frac{1}{2} m_i v_i^2.\n",
    "\\end{equation}\n",
    "for each particle indexed by $i$.\n"
   ]
  },
  {
   "cell_type": "code",
   "execution_count": 4,
   "metadata": {},
   "outputs": [
    {
     "name": "stdout",
     "output_type": "stream",
     "text": [
      "[3.125 3.125 3.125 3.125 3.125 3.125 3.125 3.125 3.125 3.125]\n"
     ]
    }
   ],
   "source": [
    "T = 1/2 * m * v**2\n",
    "### confirm that T is indeed an array with an entry for the kinetic energy of each particle\n",
    "print(T)"
   ]
  },
  {
   "cell_type": "markdown",
   "metadata": {},
   "source": [
    "We can compute the total kinetic energy by summing up the entries within T.  This can be done using another\n",
    "for loop, but it can also be done making use of a numpy function called 'sum'.  We will use both to confirm they give \n",
    "the same result."
   ]
  },
  {
   "cell_type": "code",
   "execution_count": 5,
   "metadata": {},
   "outputs": [
    {
     "name": "stdout",
     "output_type": "stream",
     "text": [
      "Result from loop is  31.25\n",
      "Result from numpy sum is  31.25\n"
     ]
    }
   ],
   "source": [
    "T_tot_loop = 0.\n",
    "for i in range(0,Npart):\n",
    "    T_tot_loop = T_tot_loop + T[i]\n",
    "T_tot_sum = np.sum(T)\n",
    "\n",
    "print(\"Result from loop is \",T_tot_loop)\n",
    "print(\"Result from numpy sum is \",T_tot_sum)"
   ]
  },
  {
   "cell_type": "markdown",
   "metadata": {},
   "source": [
    "Next let's consider the potential energy:\n",
    "\\begin{equation}\n",
    "V_i = \\sum_{j\\neqi}^N \\frac{q_i q_j}{4\\pi \\epsilon_0 r_{ij}}\n",
    "\\end{equation}"
   ]
  }
 ],
 "metadata": {
  "_draft": {
   "nbviewer_url": "https://gist.github.com/f08e978de2c5aae86677c0463b050321"
  },
  "celltoolbar": "Hide code",
  "gist": {
   "data": {
    "description": "Generalized_Mie_Near_Field_Plots",
    "public": true
   },
   "id": "f08e978de2c5aae86677c0463b050321"
  },
  "hide_code_all_hidden": false,
  "kernelspec": {
   "display_name": "Python 3",
   "language": "python",
   "name": "python3"
  },
  "language_info": {
   "codemirror_mode": {
    "name": "ipython",
    "version": 3
   },
   "file_extension": ".py",
   "mimetype": "text/x-python",
   "name": "python",
   "nbconvert_exporter": "python",
   "pygments_lexer": "ipython3",
   "version": "3.6.4"
  }
 },
 "nbformat": 4,
 "nbformat_minor": 2
}
